{
 "cells": [
  {
   "cell_type": "markdown",
   "id": "f22e470d",
   "metadata": {},
   "source": [
    "# 树"
   ]
  },
  {
   "cell_type": "markdown",
   "id": "3ccdb602",
   "metadata": {},
   "source": []
  }
 ],
 "metadata": {
  "language_info": {
   "name": "python"
  }
 },
 "nbformat": 4,
 "nbformat_minor": 5
}
