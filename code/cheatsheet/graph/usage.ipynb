{
 "cells": [
  {
   "cell_type": "markdown",
   "id": "ab86a1fb",
   "metadata": {},
   "source": [
    "# 图论"
   ]
  },
  {
   "cell_type": "markdown",
   "id": "2d42e7db",
   "metadata": {},
   "source": [
    "## 拓扑排序\n"
   ]
  },
  {
   "cell_type": "markdown",
   "id": "c064e9b9",
   "metadata": {},
   "source": [
    "## 最短路"
   ]
  },
  {
   "cell_type": "markdown",
   "id": "475f740f",
   "metadata": {},
   "source": [
    "### 单源最短路"
   ]
  },
  {
   "cell_type": "markdown",
   "id": "c0347c99",
   "metadata": {},
   "source": [
    "#### dijkstra\n",
    "$O(V+E)logV$ 稀疏图 无负权"
   ]
  },
  {
   "cell_type": "markdown",
   "id": "82512a53",
   "metadata": {},
   "source": [
    "#### A*"
   ]
  },
  {
   "cell_type": "markdown",
   "id": "2a4eff1a",
   "metadata": {},
   "source": [
    "#### bellman-ford\n",
    "$O(VE)$ 有负权"
   ]
  },
  {
   "cell_type": "markdown",
   "id": "5b53098c",
   "metadata": {},
   "source": [
    "#### SPFA"
   ]
  },
  {
   "cell_type": "markdown",
   "id": "415f8320",
   "metadata": {},
   "source": [
    "### 全源最短路"
   ]
  },
  {
   "cell_type": "markdown",
   "id": "81ed3ecd",
   "metadata": {},
   "source": [
    "#### floyd \n",
    "$O(V^3)$"
   ]
  },
  {
   "cell_type": "markdown",
   "id": "847e7579",
   "metadata": {},
   "source": [
    "##### 05443:兔子与樱花"
   ]
  },
  {
   "cell_type": "code",
   "execution_count": null,
   "id": "e02b3373",
   "metadata": {},
   "outputs": [],
   "source": [
    "from floyd import floyd, Vertex, Graph\n",
    "sample = \"\"\"\n",
    "6\n",
    "Ginza\n",
    "Sensouji\n",
    "Shinjukugyoen\n",
    "Uenokouen\n",
    "Yoyogikouen\n",
    "Meijishinguu\n",
    "6\n",
    "Ginza Sensouji 80\n",
    "Shinjukugyoen Sensouji 40\n",
    "Ginza Uenokouen 35\n",
    "Uenokouen Shinjukugyoen 85\n",
    "Sensouji Meijishinguu 60\n",
    "Meijishinguu Yoyogikouen 35\n",
    "2\n",
    "Uenokouen Yoyogikouen\n",
    "Meijishinguu Meijishinguu\n",
    "\"\"\"\n",
    "data = sample.split()\n",
    "graph = Graph()\n",
    "index = 0\n",
    "p = int(data[index])\n",
    "index += 1\n",
    "for _ in range(p):\n",
    "    graph.vertices[data[index]] = Vertex(data[index])\n",
    "    index += 1\n",
    "Q = int(data[index])\n",
    "index += 1\n",
    "for _ in range(Q):\n",
    "    u_key, v_key, w = data[index], data[index+1], int(data[index+2])\n",
    "    index += 3\n",
    "    graph.vertices[u_key].neighbors.append([v_key, w])\n",
    "    graph.vertices[v_key].neighbors.append([u_key, w])\n",
    "full_distances = floyd(graph)\n",
    "R = int(data[index])\n",
    "index += 1\n",
    "result = []\n",
    "for _ in range(R):\n",
    "    start_key, end_key = data[index], data[index+1]\n",
    "    index += 2\n"
   ]
  },
  {
   "cell_type": "markdown",
   "id": "22c069d1",
   "metadata": {},
   "source": [
    "#### johnson 算法 \n",
    "$O(V(V+E)logV)$ 稀疏图"
   ]
  },
  {
   "cell_type": "markdown",
   "id": "186b8b08",
   "metadata": {},
   "source": [
    "##### 05443:兔子与樱花"
   ]
  },
  {
   "cell_type": "code",
   "execution_count": 2,
   "id": "c540505b",
   "metadata": {},
   "outputs": [
    {
     "name": "stdout",
     "output_type": "stream",
     "text": [
      "Uenokouen->(35)->Ginza->(80)->Sensouji->(60)->Meijishinguu->(35)->Yoyogikouen\n",
      "Meijishinguu\n"
     ]
    }
   ],
   "source": [
    "from johnson import johnson, Vertex, Graph\n",
    "\n",
    "sample = \"\"\"\n",
    "6\n",
    "Ginza\n",
    "Sensouji\n",
    "Shinjukugyoen\n",
    "Uenokouen\n",
    "Yoyogikouen\n",
    "Meijishinguu\n",
    "6\n",
    "Ginza Sensouji 80\n",
    "Shinjukugyoen Sensouji 40\n",
    "Ginza Uenokouen 35\n",
    "Uenokouen Shinjukugyoen 85\n",
    "Sensouji Meijishinguu 60\n",
    "Meijishinguu Yoyogikouen 35\n",
    "2\n",
    "Uenokouen Yoyogikouen\n",
    "Meijishinguu Meijishinguu\n",
    "\"\"\"\n",
    "data = sample.split()\n",
    "graph = Graph()\n",
    "index = 0\n",
    "p = int(data[index])\n",
    "index += 1\n",
    "for _ in range(p):\n",
    "    graph.vertices[data[index]] = Vertex(data[index])\n",
    "    index += 1\n",
    "Q = int(data[index])\n",
    "index += 1\n",
    "for _ in range(Q):\n",
    "    u_key, v_key, w = data[index], data[index+1], int(data[index+2])\n",
    "    index += 3\n",
    "    graph.vertices[u_key].neighbors.append([v_key, w])\n",
    "    graph.vertices[v_key].neighbors.append([u_key, w])\n",
    "full_distances = johnson(graph)\n",
    "\n",
    "R = int(data[index])\n",
    "index += 1\n",
    "result = []\n",
    "for _ in range(R):\n",
    "    start_key, end_key = data[index], data[index+1]\n",
    "    index += 2\n",
    "    path = full_distances[start_key][end_key]['path']\n",
    "\n",
    "    path_str = \"\"\n",
    "    for v_key, weight in path:\n",
    "        path_str += f\"{v_key}->({weight})->\"\n",
    "    path_str += end_key\n",
    "    result.append(path_str)\n",
    "print(\"\\n\".join(result))"
   ]
  },
  {
   "cell_type": "markdown",
   "id": "27185f1c",
   "metadata": {},
   "source": [
    "### K短路"
   ]
  },
  {
   "cell_type": "markdown",
   "id": "50af2145",
   "metadata": {},
   "source": [
    "#### A*"
   ]
  },
  {
   "cell_type": "markdown",
   "id": "02061d16",
   "metadata": {},
   "source": [
    "## 生成树"
   ]
  },
  {
   "cell_type": "markdown",
   "id": "6cd38fb3",
   "metadata": {},
   "source": [
    "### 矩阵树定理\n",
    "Laplace矩阵$L = G - A$, $A$为邻接矩阵, $G$为度数矩阵, 生成树数量为$\\det(L_{n-1})$"
   ]
  },
  {
   "cell_type": "markdown",
   "id": "cad38aa8",
   "metadata": {},
   "source": [
    "#### 最小生成树 MST"
   ]
  },
  {
   "cell_type": "markdown",
   "id": "831fd0e4",
   "metadata": {},
   "source": [
    "##### Prim\n",
    "$O(V^2)$"
   ]
  },
  {
   "cell_type": "markdown",
   "id": "4590eacd",
   "metadata": {},
   "source": [
    "#### Kruskal\n",
    "$O(ElogE)$\n"
   ]
  },
  {
   "cell_type": "markdown",
   "id": "f568f197",
   "metadata": {},
   "source": [
    "### 强联通分量"
   ]
  }
 ],
 "metadata": {
  "kernelspec": {
   "display_name": "Python 3 (ipykernel)",
   "language": "python",
   "name": "python3"
  }
 },
 "nbformat": 4,
 "nbformat_minor": 5
}
